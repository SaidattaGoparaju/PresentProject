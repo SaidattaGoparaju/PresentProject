{
  "nbformat": 4,
  "nbformat_minor": 0,
  "metadata": {
    "colab": {
      "provenance": [],
      "authorship_tag": "ABX9TyMxEC70Qi7EDtf9f0JTdsc9",
      "include_colab_link": true
    },
    "kernelspec": {
      "name": "python3",
      "display_name": "Python 3"
    },
    "language_info": {
      "name": "python"
    }
  },
  "cells": [
    {
      "cell_type": "markdown",
      "metadata": {
        "id": "view-in-github",
        "colab_type": "text"
      },
      "source": [
        "<a href=\"https://colab.research.google.com/github/SaidattaGoparaju/PresentProject/blob/main/Untitled5.ipynb\" target=\"_parent\"><img src=\"https://colab.research.google.com/assets/colab-badge.svg\" alt=\"Open In Colab\"/></a>"
      ]
    },
    {
      "cell_type": "code",
      "execution_count": 2,
      "metadata": {
        "id": "X5VhMBmC9Su0"
      },
      "outputs": [],
      "source": [
        "import os\n",
        "\n",
        "import keras\n",
        "import keras.backend as K\n",
        "import matplotlib.pyplot as plt\n",
        "import numpy as np\n",
        "import pandas as pd\n",
        "from keras.layers import Conv1D, BatchNormalization,Dense, InputLayer, Flatten, Activation\n",
        "from keras.models import Sequential\n",
        "from sklearn import preprocessing"
      ]
    },
    {
      "cell_type": "code",
      "source": [
        "from google.colab import drive\n",
        "drive.mount('/content/drive/')\n",
        "%cd /content/drive/My Drive/CMaps/"
      ],
      "metadata": {
        "colab": {
          "base_uri": "https://localhost:8080/"
        },
        "id": "8lN7bCc0-oNq",
        "outputId": "f79807a6-cc76-4eba-aa45-3bc341bdc55a"
      },
      "execution_count": 8,
      "outputs": [
        {
          "output_type": "stream",
          "name": "stdout",
          "text": [
            "Mounted at /content/drive/\n",
            "/content/drive/My Drive/CMaps\n"
          ]
        }
      ]
    },
    {
      "cell_type": "code",
      "source": [
        "# Setting seed for reproducibility\n",
        "np.random.seed(1234)  \n",
        "PYTHONHASHSEED = 0\n",
        "\n",
        "# define path to save model\n",
        "model_path = '../Output/regression_model.h5'"
      ],
      "metadata": {
        "id": "e8SmSGTW9WX7"
      },
      "execution_count": 3,
      "outputs": []
    },
    {
      "cell_type": "code",
      "source": [
        "##################################\n",
        "# Data Ingestion\n",
        "##################################\n",
        "\n",
        "# read training data - It is the aircraft engine run-to-failure data.\n",
        "train_df = pd.read_csv('/content/drive/MyDrive/CMaps/train_FD002.txt', sep=\" \", header=None)\n",
        "train_df.drop(train_df.columns[[26, 27]], axis=1, inplace=True)\n",
        "train_df.columns = ['id', 'cycle', 'setting1', 'setting2', 'setting3', 's1', 's2', 's3',\n",
        "                     's4', 's5', 's6', 's7', 's8', 's9', 's10', 's11', 's12', 's13', 's14',\n",
        "                     's15', 's16', 's17', 's18', 's19', 's20', 's21']\n",
        "\n",
        "train_df = train_df.sort_values(['id','cycle'])\n"
      ],
      "metadata": {
        "id": "OV6AbnDy9mq4"
      },
      "execution_count": 10,
      "outputs": []
    },
    {
      "cell_type": "code",
      "source": [
        "# read test data - It is the aircraft engine operating data without failure events recorded.\n",
        "test_df = pd.read_csv('/content/drive/MyDrive/CMaps/test_FD002.txt', sep=\" \", header=None)\n",
        "test_df.drop(test_df.columns[[26, 27]], axis=1, inplace=True)\n",
        "test_df.columns = ['id', 'cycle', 'setting1', 'setting2', 'setting3', 's1', 's2', 's3',\n",
        "                     's4', 's5', 's6', 's7', 's8', 's9', 's10', 's11', 's12', 's13', 's14',\n",
        "                     's15', 's16', 's17', 's18', 's19', 's20', 's21']\n",
        "\n",
        "# read ground truth data - It contains the information of true remaining cycles for each engine in the testing data.\n",
        "truth_df = pd.read_csv('/content/drive/MyDrive/CMaps/RUL_FD002.txt', sep=\" \", header=None)\n",
        "truth_df.drop(truth_df.columns[[1]], axis=1, inplace=True)"
      ],
      "metadata": {
        "id": "xIz6Ur4d9mvW"
      },
      "execution_count": 11,
      "outputs": []
    },
    {
      "cell_type": "code",
      "source": [
        "##################################\n",
        "# Data Preprocessing\n",
        "##################################\n",
        "\n",
        "#######\n",
        "# TRAIN\n",
        "#######\n",
        "# Data Labeling - generate column RUL(Remaining Usefull Life or Time to Failure)\n",
        "rul = pd.DataFrame(train_df.groupby('id')['cycle'].max()).reset_index()\n",
        "rul.columns = ['id', 'max']\n",
        "train_df = train_df.merge(rul, on=['id'], how='left')\n",
        "train_df['RUL'] = train_df['max'] - train_df['cycle']\n",
        "train_df.drop('max', axis=1, inplace=True)"
      ],
      "metadata": {
        "id": "knmuacL99myt"
      },
      "execution_count": 12,
      "outputs": []
    },
    {
      "cell_type": "code",
      "source": [
        "# generate label columns for training data\n",
        "# we will only make use of \"label1\" for binary classification, \n",
        "# while trying to answer the question: is a specific engine going to fail within w1 cycles?\n",
        "w1 = 30\n",
        "w0 = 15\n",
        "train_df['label1'] = np.where(train_df['RUL'] <= w1, 1, 0 )\n",
        "train_df['label2'] = train_df['label1']\n",
        "train_df.loc[train_df['RUL'] <= w0, 'label2'] = 2"
      ],
      "metadata": {
        "id": "oQNWKUJ6_Mi2"
      },
      "execution_count": 13,
      "outputs": []
    },
    {
      "cell_type": "code",
      "source": [
        "# MinMax normalization (from 0 to 1)\n",
        "train_df['cycle_norm'] = train_df['cycle']\n",
        "cols_normalize = train_df.columns.difference(['id','cycle','RUL','label1','label2'])\n",
        "min_max_scaler = preprocessing.MinMaxScaler()\n",
        "norm_train_df = pd.DataFrame(min_max_scaler.fit_transform(train_df[cols_normalize]), \n",
        "                             columns=cols_normalize, \n",
        "                             index=train_df.index)\n",
        "join_df = train_df[train_df.columns.difference(cols_normalize)].join(norm_train_df)\n",
        "train_df = join_df.reindex(columns = train_df.columns)\n",
        "\n",
        "\n",
        "train_df.to_csv('train_FD001.txt', encoding='utf-8',index = None)"
      ],
      "metadata": {
        "id": "sTiC4wdq_M1y"
      },
      "execution_count": 15,
      "outputs": []
    },
    {
      "cell_type": "code",
      "source": [
        "######\n",
        "# TEST\n",
        "######\n",
        "# MinMax normalization (from 0 to 1)\n",
        "\n",
        "test_df['cycle_norm'] = test_df['cycle']\n",
        "norm_test_df = pd.DataFrame(min_max_scaler.transform(test_df[cols_normalize]), \n",
        "                            columns=cols_normalize, \n",
        "                            index=test_df.index)\n",
        "test_join_df = test_df[test_df.columns.difference(cols_normalize)].join(norm_test_df)\n",
        "test_df = test_join_df.reindex(columns = test_df.columns)\n",
        "test_df = test_df.reset_index(drop=True)\n",
        "print(test_df.head())"
      ],
      "metadata": {
        "colab": {
          "base_uri": "https://localhost:8080/"
        },
        "id": "u29UKkXP_M4W",
        "outputId": "d625987c-3eed-4b96-f1f6-67b56ce38917"
      },
      "execution_count": 16,
      "outputs": [
        {
          "output_type": "stream",
          "name": "stdout",
          "text": [
            "   id  cycle  setting1  setting2  setting3      s1      s2       s3       s4  \\\n",
            "0   1      1    9.9987    0.2502     100.0  489.05  605.03  1497.17  1304.99   \n",
            "1   1      2   20.0026    0.7000     100.0  491.19  607.82  1481.20  1246.11   \n",
            "2   1      3   35.0045    0.8400     100.0  449.44  556.00  1359.08  1128.36   \n",
            "3   1      4   42.0066    0.8410     100.0  445.00  550.17  1349.69  1127.89   \n",
            "4   1      5   24.9985    0.6213      60.0  462.54  536.72  1253.18  1050.69   \n",
            "\n",
            "      s5  ...      s13      s14      s15   s16    s17     s18     s19    s20  \\\n",
            "0  10.52  ...  2388.18  8114.10   8.6476  0.03  369.0  2319.0  100.00  28.42   \n",
            "1   9.35  ...  2388.12  8053.06   9.2405  0.02  364.0  2324.0  100.00  24.29   \n",
            "2   5.48  ...  2387.75  8053.04   9.3472  0.02  333.0  2223.0  100.00  14.98   \n",
            "3   3.91  ...  2387.72  8066.90   9.3961  0.02  332.0  2212.0  100.00  10.35   \n",
            "4   7.05  ...  2028.05  7865.66  10.8682  0.02  305.0  1915.0   84.93  14.31   \n",
            "\n",
            "       s21  cycle_norm  \n",
            "0  17.1551    0.000000  \n",
            "1  14.8039    0.002653  \n",
            "2   8.9125    0.005305  \n",
            "3   6.4181    0.007958  \n",
            "4   8.5740    0.010610  \n",
            "\n",
            "[5 rows x 27 columns]\n"
          ]
        }
      ]
    },
    {
      "cell_type": "code",
      "source": [
        "# We use the ground truth dataset to generate labels for the test data.\n",
        "# generate column max for test data\n",
        "rul = pd.DataFrame(test_df.groupby('id')['cycle'].max()).reset_index()\n",
        "rul.columns = ['id', 'max']\n",
        "truth_df.columns = ['more']\n",
        "truth_df['id'] = truth_df.index + 1\n",
        "truth_df['max'] = rul['max'] + truth_df['more']\n",
        "truth_df.drop('more', axis=1, inplace=True)\n"
      ],
      "metadata": {
        "id": "-VMXO9Jc_M6m"
      },
      "execution_count": 17,
      "outputs": []
    },
    {
      "cell_type": "code",
      "source": [
        "# generate RUL for test data\n",
        "test_df = test_df.merge(truth_df, on=['id'], how='left')\n",
        "test_df['RUL'] = test_df['max'] - test_df['cycle']\n",
        "test_df.drop('max', axis=1, inplace=True)\n",
        "\n",
        "# generate label columns w0 and w1 for test data\n",
        "test_df['label1'] = np.where(test_df['RUL'] <= w1, 1, 0 )\n",
        "test_df['label2'] = test_df['label1']\n",
        "test_df.loc[test_df['RUL'] <= w0, 'label2'] = 2\n",
        "\n",
        "test_df.to_csv('test_FD001.txt', encoding='utf-8',index = None)"
      ],
      "metadata": {
        "id": "D5DJcLXM_M8X"
      },
      "execution_count": 18,
      "outputs": []
    },
    {
      "cell_type": "code",
      "source": [
        "# pick a large window size of 50 cycles\n",
        "sequence_length = 100\n",
        "\n",
        "# function to reshape features into (samples, time steps, features) \n",
        "def gen_sequence(id_df, seq_length, seq_cols):\n",
        "\n",
        "    data_matrix = id_df[seq_cols].values\n",
        "    num_elements = data_matrix.shape[0]\n",
        "\n",
        "    for start, stop in zip(range(0, num_elements-seq_length), range(seq_length, num_elements)):\n",
        "        yield data_matrix[start:stop, :]\n"
      ],
      "metadata": {
        "id": "Wc6foBNC_M-T"
      },
      "execution_count": 19,
      "outputs": []
    },
    {
      "cell_type": "code",
      "source": [
        "# pick the feature columns\n",
        "sensor_cols = ['s' + str(i) for i in range(1,22)]\n",
        "sequence_cols = ['setting1', 'setting2', 'setting3', 'cycle_norm']\n",
        "sequence_cols.extend(sensor_cols)\n"
      ],
      "metadata": {
        "id": "sBuPiTIX_NBm"
      },
      "execution_count": 20,
      "outputs": []
    },
    {
      "cell_type": "code",
      "source": [
        "# TODO for debug \n",
        "# val is a list of 192 - 50 = 142 bi-dimensional array (50 rows x 25 columns)\n",
        "val=list(gen_sequence(train_df[train_df['id']==1], sequence_length, sequence_cols))\n",
        "print(len(val))"
      ],
      "metadata": {
        "colab": {
          "base_uri": "https://localhost:8080/"
        },
        "id": "51eVOT2I_o2H",
        "outputId": "01b23978-e3a6-4008-d1a2-fea946687177"
      },
      "execution_count": 22,
      "outputs": [
        {
          "output_type": "stream",
          "name": "stdout",
          "text": [
            "49\n"
          ]
        }
      ]
    },
    {
      "cell_type": "code",
      "source": [
        "# generator for the sequences\n",
        "# transform each id of the train dataset in a sequence\n",
        "seq_gen = (list(gen_sequence(train_df[train_df['id']==id], sequence_length, sequence_cols)) \n",
        "           for id in train_df['id'].unique())\n"
      ],
      "metadata": {
        "id": "SEtgt-CM_o4Z"
      },
      "execution_count": 23,
      "outputs": []
    },
    {
      "cell_type": "code",
      "source": [
        "# generate sequences and convert to numpy array\n",
        "seq_array = np.concatenate(list(seq_gen)).astype(np.float32)\n",
        "print(seq_array.shape)"
      ],
      "metadata": {
        "colab": {
          "base_uri": "https://localhost:8080/"
        },
        "id": "J08gp5Ai_o7T",
        "outputId": "5aaa87f5-d6a4-46fe-c3f9-21b955a5217e"
      },
      "execution_count": 24,
      "outputs": [
        {
          "output_type": "stream",
          "name": "stdout",
          "text": [
            "(27759, 100, 25)\n"
          ]
        }
      ]
    },
    {
      "cell_type": "code",
      "source": [
        "# function to generate labels\n",
        "def gen_labels(id_df, seq_length, label):\n",
        "\n",
        "    data_matrix = id_df[label].values\n",
        "    num_elements = data_matrix.shape[0]\n",
        "\n",
        "    return data_matrix[seq_length:num_elements, :]"
      ],
      "metadata": {
        "id": "5cH8_y_R_o95"
      },
      "execution_count": 25,
      "outputs": []
    },
    {
      "cell_type": "code",
      "source": [
        "# generate labels\n",
        "label_gen = [gen_labels(train_df[train_df['id']==id], sequence_length, ['RUL']) \n",
        "             for id in train_df['id'].unique()]\n",
        "\n",
        "label_array = np.concatenate(label_gen).astype(np.float32)\n",
        "label_array.shape"
      ],
      "metadata": {
        "colab": {
          "base_uri": "https://localhost:8080/"
        },
        "id": "2L2N-zc2_pBT",
        "outputId": "306042d6-f113-4420-e548-d44be2670cef"
      },
      "execution_count": 27,
      "outputs": [
        {
          "output_type": "execute_result",
          "data": {
            "text/plain": [
              "(27759, 1)"
            ]
          },
          "metadata": {},
          "execution_count": 27
        }
      ]
    },
    {
      "cell_type": "code",
      "source": [
        "##################################\n",
        "# Modeling\n",
        "##################################\n",
        "\n",
        "def r2_keras(y_true, y_pred):\n",
        "    \"\"\"Coefficient of Determination \n",
        "    \"\"\"\n",
        "    SS_res =  K.sum(K.square( y_true - y_pred ))\n",
        "    SS_tot = K.sum(K.square( y_true - K.mean(y_true) ) )\n",
        "    return ( 1 - SS_res/(SS_tot + K.epsilon()) )\n",
        "def rmse(y_true, y_pred):\n",
        "    return K.sqrt(K.mean(K.square(y_pred - y_true), axis=-1))"
      ],
      "metadata": {
        "id": "OL74i_aeABAP"
      },
      "execution_count": 28,
      "outputs": []
    },
    {
      "cell_type": "code",
      "source": [
        "# Next, we build a deep network. \n",
        "# The first layer is an LSTM layer with 100 units followed by another LSTM layer with 50 units. \n",
        "\n",
        "nb_features = seq_array.shape[2]\n",
        "nb_out = label_array.shape[1]\n",
        "\n",
        "cnn = Sequential()\n",
        "cnn.add(InputLayer(input_shape=(sequence_length, nb_features)))\n",
        "cnn.add(BatchNormalization(axis=-1))  #Scaling the data\n",
        "\n",
        "cnn.add(Conv1D(filters=64,\n",
        "               kernel_size=3,\n",
        "               padding=\"valid\",\n",
        "               activation=\"relu\",\n",
        "               kernel_regularizer='l2'\n",
        "               )\n",
        "       )"
      ],
      "metadata": {
        "id": "uikXkuC7ABCj"
      },
      "execution_count": 37,
      "outputs": []
    },
    {
      "cell_type": "code",
      "source": [
        "# cnn.add(MaxPool1D(pool_size=2))\n",
        "# cnn.add(BatchNormalization(axis=-1))\n",
        "cnn.add(Conv1D(filters=64,\n",
        "               kernel_size=3,\n",
        "               padding=\"valid\",\n",
        "               activation=\"relu\",\n",
        "               kernel_regularizer='l2')\n",
        "       )\n",
        "\n",
        "cnn.add(Conv1D(filters=64,\n",
        "               kernel_size=3,\n",
        "               padding=\"valid\",\n",
        "               activation=\"relu\",\n",
        "               kernel_regularizer='l2')\n",
        "       )"
      ],
      "metadata": {
        "id": "OHnly7ArABKo"
      },
      "execution_count": 38,
      "outputs": []
    },
    {
      "cell_type": "code",
      "source": [
        "# cnn.add(BatchNormalization(axis=-1))\n",
        "# cnn.add(MaxPool1D(pool_size=2))\n",
        "# cnn.add(BatchNormalization(axis=-1))\n",
        "\n",
        "cnn.add(Conv1D(filters=64,\n",
        "               kernel_size=3,\n",
        "               padding=\"valid\",\n",
        "               activation=\"relu\",\n",
        "               kernel_regularizer='l2')\n",
        "       )\n",
        "\n",
        "cnn.add(Flatten())\n",
        "cnn.add(Dense(40))\n",
        "cnn.add(Activation('relu'))\n",
        "cnn.add(Dense(30))\n",
        "cnn.add(Activation('relu'))\n",
        "cnn.add(Dense(units=nb_out))\n",
        "cnn.add(Activation(\"relu\"))"
      ],
      "metadata": {
        "id": "gwllcknJHyQt"
      },
      "execution_count": 40,
      "outputs": []
    },
    {
      "cell_type": "code",
      "source": [
        "# cnn.add(Dense(30))\n",
        "# cnn.add(Activation('relu'))\n",
        "# cnn.add(Dense(20))\n",
        "# cnn.add(Activation('relu'))\n",
        "# cnn.add(Dense(10))\n",
        "# cnn.add(Activation('relu'))\n",
        "# cnn.add(Dense(units=nb_out))\n",
        "# cnn.add(Activation('relu'))\n",
        "cnn.compile(loss='mean_squared_error', optimizer='rmsprop',metrics=[rmse,r2_keras])\n",
        "\n",
        "print(cnn.summary())\n",
        "\n",
        "history = cnn.fit(seq_array, label_array, epochs=100, batch_size=512, validation_split=0.05, verbose=2,\n",
        "          callbacks = [keras.callbacks.EarlyStopping(monitor='val_loss', min_delta=0, patience=10, verbose=0, mode='min'),\n",
        "                       keras.callbacks.ModelCheckpoint(model_path,monitor='val_loss', save_best_only=True, mode='min', verbose=0)]\n",
        "    )"
      ],
      "metadata": {
        "colab": {
          "base_uri": "https://localhost:8080/"
        },
        "id": "Sao0S2EVHyeF",
        "outputId": "ac544ee7-587e-490c-f6fc-94c788545a4a"
      },
      "execution_count": 41,
      "outputs": [
        {
          "output_type": "stream",
          "name": "stdout",
          "text": [
            "Model: \"sequential_1\"\n",
            "_________________________________________________________________\n",
            " Layer (type)                Output Shape              Param #   \n",
            "=================================================================\n",
            " batch_normalization_1 (Batc  (None, 100, 25)          100       \n",
            " hNormalization)                                                 \n",
            "                                                                 \n",
            " conv1d_9 (Conv1D)           (None, 98, 64)            4864      \n",
            "                                                                 \n",
            " conv1d_10 (Conv1D)          (None, 96, 64)            12352     \n",
            "                                                                 \n",
            " conv1d_11 (Conv1D)          (None, 94, 64)            12352     \n",
            "                                                                 \n",
            " conv1d_12 (Conv1D)          (None, 92, 64)            12352     \n",
            "                                                                 \n",
            " flatten_1 (Flatten)         (None, 5888)              0         \n",
            "                                                                 \n",
            " dense_3 (Dense)             (None, 40)                235560    \n",
            "                                                                 \n",
            " activation_3 (Activation)   (None, 40)                0         \n",
            "                                                                 \n",
            " dense_4 (Dense)             (None, 30)                1230      \n",
            "                                                                 \n",
            " activation_4 (Activation)   (None, 30)                0         \n",
            "                                                                 \n",
            " dense_5 (Dense)             (None, 1)                 31        \n",
            "                                                                 \n",
            " activation_5 (Activation)   (None, 1)                 0         \n",
            "                                                                 \n",
            "=================================================================\n",
            "Total params: 278,841\n",
            "Trainable params: 278,791\n",
            "Non-trainable params: 50\n",
            "_________________________________________________________________\n",
            "None\n",
            "Epoch 1/100\n",
            "52/52 - 23s - loss: 2248.3394 - rmse: 36.1076 - r2_keras: -3.7583e-02 - val_loss: 7374.1035 - val_rmse: 65.1171 - val_r2_keras: -1.0345e+00 - 23s/epoch - 445ms/step\n",
            "Epoch 2/100\n",
            "52/52 - 21s - loss: 1825.1548 - rmse: 32.6249 - r2_keras: 0.1489 - val_loss: 8259.9023 - val_rmse: 69.7574 - val_r2_keras: -1.2940e+00 - 21s/epoch - 403ms/step\n",
            "Epoch 3/100\n",
            "52/52 - 22s - loss: 1748.2289 - rmse: 31.8957 - r2_keras: 0.1858 - val_loss: 5798.3340 - val_rmse: 57.2905 - val_r2_keras: -5.8121e-01 - 22s/epoch - 427ms/step\n",
            "Epoch 4/100\n",
            "52/52 - 26s - loss: 1599.5605 - rmse: 30.3520 - r2_keras: 0.2550 - val_loss: 4862.2109 - val_rmse: 51.8285 - val_r2_keras: -3.0982e-01 - 26s/epoch - 499ms/step\n",
            "Epoch 5/100\n",
            "52/52 - 24s - loss: 1361.7363 - rmse: 27.4108 - r2_keras: 0.3672 - val_loss: 5996.8418 - val_rmse: 58.0285 - val_r2_keras: -6.3320e-01 - 24s/epoch - 454ms/step\n",
            "Epoch 6/100\n",
            "52/52 - 29s - loss: 1166.8756 - rmse: 24.6925 - r2_keras: 0.4558 - val_loss: 2893.7085 - val_rmse: 37.8331 - val_r2_keras: 0.2414 - 29s/epoch - 560ms/step\n",
            "Epoch 7/100\n",
            "52/52 - 23s - loss: 986.1737 - rmse: 22.5897 - r2_keras: 0.5409 - val_loss: 2335.3511 - val_rmse: 32.5873 - val_r2_keras: 0.3902 - 23s/epoch - 440ms/step\n",
            "Epoch 8/100\n",
            "52/52 - 26s - loss: 893.9760 - rmse: 21.3390 - r2_keras: 0.5803 - val_loss: 1543.1019 - val_rmse: 25.9693 - val_r2_keras: 0.6147 - 26s/epoch - 497ms/step\n",
            "Epoch 9/100\n",
            "52/52 - 27s - loss: 805.0417 - rmse: 20.2443 - r2_keras: 0.6262 - val_loss: 2885.5320 - val_rmse: 37.0619 - val_r2_keras: 0.2359 - 27s/epoch - 512ms/step\n",
            "Epoch 10/100\n",
            "52/52 - 21s - loss: 752.1141 - rmse: 19.5957 - r2_keras: 0.6485 - val_loss: 1175.3463 - val_rmse: 24.2628 - val_r2_keras: 0.6850 - 21s/epoch - 404ms/step\n",
            "Epoch 11/100\n",
            "52/52 - 21s - loss: 690.9648 - rmse: 18.7425 - r2_keras: 0.6787 - val_loss: 1140.0466 - val_rmse: 21.9047 - val_r2_keras: 0.7190 - 21s/epoch - 406ms/step\n",
            "Epoch 12/100\n",
            "52/52 - 21s - loss: 625.0612 - rmse: 17.5981 - r2_keras: 0.7108 - val_loss: 1233.6478 - val_rmse: 28.0383 - val_r2_keras: 0.6310 - 21s/epoch - 401ms/step\n",
            "Epoch 13/100\n",
            "52/52 - 22s - loss: 632.1393 - rmse: 17.8108 - r2_keras: 0.7055 - val_loss: 1075.9725 - val_rmse: 21.2703 - val_r2_keras: 0.7406 - 22s/epoch - 417ms/step\n",
            "Epoch 14/100\n",
            "52/52 - 21s - loss: 542.2002 - rmse: 16.5070 - r2_keras: 0.7476 - val_loss: 1091.6746 - val_rmse: 26.5968 - val_r2_keras: 0.6598 - 21s/epoch - 407ms/step\n",
            "Epoch 15/100\n",
            "52/52 - 21s - loss: 526.2749 - rmse: 16.1622 - r2_keras: 0.7563 - val_loss: 1075.2714 - val_rmse: 21.8443 - val_r2_keras: 0.7005 - 21s/epoch - 410ms/step\n",
            "Epoch 16/100\n",
            "52/52 - 21s - loss: 512.0374 - rmse: 15.9803 - r2_keras: 0.7615 - val_loss: 925.3013 - val_rmse: 24.2386 - val_r2_keras: 0.7305 - 21s/epoch - 404ms/step\n",
            "Epoch 17/100\n",
            "52/52 - 21s - loss: 494.7566 - rmse: 15.8196 - r2_keras: 0.7710 - val_loss: 1360.5276 - val_rmse: 23.2791 - val_r2_keras: 0.6635 - 21s/epoch - 400ms/step\n",
            "Epoch 18/100\n",
            "52/52 - 21s - loss: 444.0984 - rmse: 14.8198 - r2_keras: 0.7959 - val_loss: 931.4699 - val_rmse: 20.3781 - val_r2_keras: 0.7333 - 21s/epoch - 397ms/step\n",
            "Epoch 19/100\n",
            "52/52 - 21s - loss: 438.2987 - rmse: 14.7906 - r2_keras: 0.7972 - val_loss: 1275.4604 - val_rmse: 23.3036 - val_r2_keras: 0.6811 - 21s/epoch - 401ms/step\n",
            "Epoch 20/100\n",
            "52/52 - 21s - loss: 398.8080 - rmse: 14.3533 - r2_keras: 0.8149 - val_loss: 925.3672 - val_rmse: 20.8949 - val_r2_keras: 0.7429 - 21s/epoch - 401ms/step\n",
            "Epoch 21/100\n",
            "52/52 - 21s - loss: 384.3726 - rmse: 14.0637 - r2_keras: 0.8223 - val_loss: 977.0079 - val_rmse: 20.3520 - val_r2_keras: 0.7486 - 21s/epoch - 401ms/step\n",
            "Epoch 22/100\n",
            "52/52 - 21s - loss: 353.5128 - rmse: 13.4479 - r2_keras: 0.8360 - val_loss: 922.3320 - val_rmse: 20.8205 - val_r2_keras: 0.7684 - 21s/epoch - 400ms/step\n",
            "Epoch 23/100\n",
            "52/52 - 21s - loss: 330.8297 - rmse: 13.0518 - r2_keras: 0.8463 - val_loss: 761.0361 - val_rmse: 20.0525 - val_r2_keras: 0.8029 - 21s/epoch - 403ms/step\n",
            "Epoch 24/100\n",
            "52/52 - 21s - loss: 332.8880 - rmse: 13.2011 - r2_keras: 0.8451 - val_loss: 2590.2915 - val_rmse: 35.2627 - val_r2_keras: 0.3199 - 21s/epoch - 394ms/step\n",
            "Epoch 25/100\n",
            "52/52 - 20s - loss: 319.1512 - rmse: 12.9154 - r2_keras: 0.8534 - val_loss: 1207.8699 - val_rmse: 22.8764 - val_r2_keras: 0.6859 - 20s/epoch - 393ms/step\n",
            "Epoch 26/100\n",
            "52/52 - 21s - loss: 302.6557 - rmse: 12.5183 - r2_keras: 0.8606 - val_loss: 1209.9723 - val_rmse: 23.4794 - val_r2_keras: 0.6783 - 21s/epoch - 396ms/step\n",
            "Epoch 27/100\n",
            "52/52 - 21s - loss: 296.2524 - rmse: 12.4220 - r2_keras: 0.8657 - val_loss: 1560.9094 - val_rmse: 26.2659 - val_r2_keras: 0.5944 - 21s/epoch - 401ms/step\n",
            "Epoch 28/100\n",
            "52/52 - 21s - loss: 277.7170 - rmse: 12.0996 - r2_keras: 0.8705 - val_loss: 956.1441 - val_rmse: 23.6628 - val_r2_keras: 0.7611 - 21s/epoch - 395ms/step\n",
            "Epoch 29/100\n",
            "52/52 - 25s - loss: 260.3149 - rmse: 11.4636 - r2_keras: 0.8794 - val_loss: 915.0011 - val_rmse: 20.3916 - val_r2_keras: 0.7787 - 25s/epoch - 485ms/step\n",
            "Epoch 30/100\n",
            "52/52 - 21s - loss: 247.5915 - rmse: 11.4996 - r2_keras: 0.8878 - val_loss: 1329.1398 - val_rmse: 23.9587 - val_r2_keras: 0.6494 - 21s/epoch - 398ms/step\n",
            "Epoch 31/100\n",
            "52/52 - 21s - loss: 251.8658 - rmse: 11.3411 - r2_keras: 0.8833 - val_loss: 982.4268 - val_rmse: 20.7282 - val_r2_keras: 0.7584 - 21s/epoch - 395ms/step\n",
            "Epoch 32/100\n",
            "52/52 - 21s - loss: 249.8862 - rmse: 11.3712 - r2_keras: 0.8861 - val_loss: 844.6019 - val_rmse: 21.3253 - val_r2_keras: 0.7923 - 21s/epoch - 394ms/step\n",
            "Epoch 33/100\n",
            "52/52 - 21s - loss: 226.3541 - rmse: 10.9331 - r2_keras: 0.8948 - val_loss: 931.3395 - val_rmse: 22.7060 - val_r2_keras: 0.7463 - 21s/epoch - 396ms/step\n"
          ]
        }
      ]
    },
    {
      "cell_type": "code",
      "source": [
        "# model = Sequential()\n",
        "# model.add(LSTM(\n",
        "#          input_shape=(sequence_length, nb_features),\n",
        "#          units=100,\n",
        "#          return_sequences=True))\n",
        "# model.add(Dropout(0.2))\n",
        "# model.add(LSTM(\n",
        "#           units=100,\n",
        "#           return_sequences=False))\n",
        "# model.add(Dropout(0.2))\n",
        "# model.add(Dense(units=nb_out))\n",
        "# model.add(Activation(\"linear\"))\n",
        "# model.compile(loss='mean_squared_error', optimizer='rmsprop',metrics=['mae',r2_keras])\n",
        "#\n",
        "# print(model.summary())\n",
        "#\n",
        "#\n",
        "#\n",
        "# # fit the network\n",
        "# history = model.fit(seq_array, label_array, epochs=100, batch_size=200, validation_split=0.05, verbose=2,\n",
        "#           callbacks = [keras.callbacks.EarlyStopping(monitor='val_loss', min_delta=0, patience=10, verbose=0, mode='min'),\n",
        "#                        keras.callbacks.ModelCheckpoint(model_path,monitor='val_loss', save_best_only=True, mode='min', verbose=0)]\n",
        "#           )\n",
        "\n",
        "# list all data in history\n",
        "print(history.history.keys())\n",
        "\n"
      ],
      "metadata": {
        "colab": {
          "base_uri": "https://localhost:8080/"
        },
        "id": "tfzu6OlyIHQl",
        "outputId": "870a5753-2450-4673-aa33-71074fa533b4"
      },
      "execution_count": 42,
      "outputs": [
        {
          "output_type": "stream",
          "name": "stdout",
          "text": [
            "dict_keys(['loss', 'rmse', 'r2_keras', 'val_loss', 'val_rmse', 'val_r2_keras'])\n"
          ]
        }
      ]
    },
    {
      "cell_type": "code",
      "source": [
        "# training metrics\n",
        "scores = cnn.evaluate(seq_array, label_array, verbose=1, batch_size=200)\n",
        "print('\\nMAE: {}'.format(scores[1]))\n",
        "print('\\nR^2: {}'.format(scores[2]))\n",
        "\n",
        "y_pred = cnn.predict(seq_array,verbose=1, batch_size=200)\n",
        "y_true = label_array\n",
        "\n",
        "test_set = pd.DataFrame(y_pred)\n",
        "test_set.to_csv('submit_train.csv', index = None)"
      ],
      "metadata": {
        "colab": {
          "base_uri": "https://localhost:8080/"
        },
        "id": "7tMzyk-wIOIN",
        "outputId": "53e4a9ce-dbec-45aa-95f3-9bdeafd08ebb"
      },
      "execution_count": 43,
      "outputs": [
        {
          "output_type": "stream",
          "name": "stdout",
          "text": [
            "139/139 [==============================] - 7s 48ms/step - loss: 225.5704 - rmse: 11.1715 - r2_keras: 0.8454\n",
            "\n",
            "MAE: 11.17149543762207\n",
            "\n",
            "R^2: 0.8453773260116577\n",
            "139/139 [==============================] - 7s 47ms/step\n"
          ]
        }
      ]
    },
    {
      "cell_type": "code",
      "source": [
        "##################################\n",
        "# EVALUATE ON TEST DATA\n",
        "##################################\n",
        "\n",
        "# We pick the last sequence for each id in the test data\n",
        "seq_array_test_last = [test_df[test_df['id']==id][sequence_cols].values[-sequence_length:] \n",
        "                       for id in test_df['id'].unique() if len(test_df[test_df['id']==id]) >= sequence_length]\n",
        "\n",
        "seq_array_test_last = np.asarray(seq_array_test_last).astype(np.float32)\n",
        "print(\"seq_array_test_last\")\n",
        "#print(seq_array_test_last)\n",
        "print(seq_array_test_last.shape)"
      ],
      "metadata": {
        "colab": {
          "base_uri": "https://localhost:8080/"
        },
        "id": "aCBTMcABIOS_",
        "outputId": "16b28160-ecf2-4f2f-f8c7-cf9f5791eac8"
      },
      "execution_count": 44,
      "outputs": [
        {
          "output_type": "stream",
          "name": "stdout",
          "text": [
            "seq_array_test_last\n",
            "(168, 100, 25)\n"
          ]
        }
      ]
    },
    {
      "cell_type": "code",
      "source": [
        "# Similarly, we pick the labels\n",
        "#print(\"y_mask\")\n",
        "y_mask = [len(test_df[test_df['id']==id]) >= sequence_length for id in test_df['id'].unique()]\n",
        "label_array_test_last = test_df.groupby('id')['RUL'].nth(-1)[y_mask].values\n",
        "label_array_test_last = label_array_test_last.reshape(label_array_test_last.shape[0],1).astype(np.float32)\n",
        "print(label_array_test_last.shape)\n",
        "print(\"label_array_test_last\")\n",
        "print(label_array_test_last)\n"
      ],
      "metadata": {
        "colab": {
          "base_uri": "https://localhost:8080/"
        },
        "id": "REYhrw0pIOcP",
        "outputId": "eb31004d-f170-438a-9f0a-d03f830e3dbe"
      },
      "execution_count": 45,
      "outputs": [
        {
          "output_type": "stream",
          "name": "stdout",
          "text": [
            "(168, 1)\n",
            "label_array_test_last\n",
            "[[ 18.]\n",
            " [106.]\n",
            " [ 15.]\n",
            " [  6.]\n",
            " [ 90.]\n",
            " [ 11.]\n",
            " [  6.]\n",
            " [ 30.]\n",
            " [ 11.]\n",
            " [ 37.]\n",
            " [ 68.]\n",
            " [ 22.]\n",
            " [ 54.]\n",
            " [ 97.]\n",
            " [ 10.]\n",
            " [ 77.]\n",
            " [ 88.]\n",
            " [ 83.]\n",
            " [ 78.]\n",
            " [ 75.]\n",
            " [ 11.]\n",
            " [ 53.]\n",
            " [100.]\n",
            " [ 55.]\n",
            " [ 48.]\n",
            " [ 37.]\n",
            " [ 44.]\n",
            " [ 27.]\n",
            " [ 18.]\n",
            " [  6.]\n",
            " [ 15.]\n",
            " [112.]\n",
            " [ 13.]\n",
            " [ 13.]\n",
            " [ 53.]\n",
            " [ 52.]\n",
            " [103.]\n",
            " [ 26.]\n",
            " [ 73.]\n",
            " [ 39.]\n",
            " [ 39.]\n",
            " [ 14.]\n",
            " [ 11.]\n",
            " [ 86.]\n",
            " [ 56.]\n",
            " [115.]\n",
            " [ 17.]\n",
            " [104.]\n",
            " [ 78.]\n",
            " [ 86.]\n",
            " [ 98.]\n",
            " [ 36.]\n",
            " [ 52.]\n",
            " [ 91.]\n",
            " [ 15.]\n",
            " [ 17.]\n",
            " [ 47.]\n",
            " [ 21.]\n",
            " [ 79.]\n",
            " [  8.]\n",
            " [  9.]\n",
            " [ 73.]\n",
            " [ 97.]\n",
            " [ 49.]\n",
            " [ 31.]\n",
            " [ 97.]\n",
            " [  9.]\n",
            " [ 14.]\n",
            " [  8.]\n",
            " [  8.]\n",
            " [106.]\n",
            " [ 61.]\n",
            " [168.]\n",
            " [ 35.]\n",
            " [ 80.]\n",
            " [  9.]\n",
            " [ 50.]\n",
            " [ 78.]\n",
            " [ 91.]\n",
            " [  7.]\n",
            " [106.]\n",
            " [ 15.]\n",
            " [  7.]\n",
            " [ 82.]\n",
            " [108.]\n",
            " [ 79.]\n",
            " [121.]\n",
            " [ 39.]\n",
            " [ 38.]\n",
            " [  9.]\n",
            " [167.]\n",
            " [ 88.]\n",
            " [  7.]\n",
            " [ 51.]\n",
            " [ 55.]\n",
            " [ 47.]\n",
            " [ 81.]\n",
            " [ 43.]\n",
            " [ 98.]\n",
            " [ 10.]\n",
            " [ 11.]\n",
            " [ 34.]\n",
            " [115.]\n",
            " [ 99.]\n",
            " [171.]\n",
            " [ 15.]\n",
            " [  9.]\n",
            " [ 42.]\n",
            " [ 13.]\n",
            " [ 41.]\n",
            " [ 88.]\n",
            " [ 14.]\n",
            " [ 82.]\n",
            " [ 36.]\n",
            " [107.]\n",
            " [ 14.]\n",
            " [ 23.]\n",
            " [  6.]\n",
            " [ 35.]\n",
            " [ 97.]\n",
            " [ 68.]\n",
            " [ 14.]\n",
            " [ 67.]\n",
            " [ 19.]\n",
            " [ 10.]\n",
            " [ 43.]\n",
            " [ 12.]\n",
            " [ 13.]\n",
            " [ 37.]\n",
            " [ 80.]\n",
            " [ 93.]\n",
            " [ 32.]\n",
            " [103.]\n",
            " [ 68.]\n",
            " [192.]\n",
            " [ 48.]\n",
            " [ 85.]\n",
            " [  8.]\n",
            " [ 23.]\n",
            " [  8.]\n",
            " [  6.]\n",
            " [ 57.]\n",
            " [ 83.]\n",
            " [ 81.]\n",
            " [ 73.]\n",
            " [ 75.]\n",
            " [ 11.]\n",
            " [108.]\n",
            " [ 14.]\n",
            " [ 61.]\n",
            " [ 85.]\n",
            " [  8.]\n",
            " [101.]\n",
            " [ 89.]\n",
            " [190.]\n",
            " [ 12.]\n",
            " [ 62.]\n",
            " [101.]\n",
            " [ 17.]\n",
            " [ 16.]\n",
            " [ 56.]\n",
            " [ 23.]\n",
            " [ 12.]\n",
            " [ 43.]\n",
            " [ 48.]\n",
            " [122.]\n",
            " [ 56.]\n",
            " [ 51.]]\n"
          ]
        }
      ]
    },
    {
      "cell_type": "code",
      "source": [
        "# if best iteration's model was saved then load and use it\n",
        "if os.path.isfile(model_path):\n",
        "    cnn.load_weights(model_path)\n",
        "    #estimator = load_model(model_path,custom_objects={'r2_keras': r2_keras})\n"
      ],
      "metadata": {
        "id": "ylMLxdFpIOjC"
      },
      "execution_count": 46,
      "outputs": []
    },
    {
      "cell_type": "code",
      "source": [
        "\n",
        "    # test metrics\n",
        "    scores_test = cnn.evaluate(seq_array_test_last, label_array_test_last, verbose=2)\n",
        "    print('\\nMAE: {}'.format(scores_test[1]))\n",
        "    print('\\nR^2: {}'.format(scores_test[2]))\n",
        "\n",
        "    y_pred_test = cnn.predict(seq_array_test_last)\n",
        "    y_true_test = label_array_test_last\n",
        "    print(\"Prediction\")\n",
        "    print(y_pred_test);\n",
        "    print(\"Truth\")\n",
        "    print(y_true_test);"
      ],
      "metadata": {
        "colab": {
          "base_uri": "https://localhost:8080/"
        },
        "id": "gTHUCnasIlzF",
        "outputId": "cd847da4-ba94-4913-8ff8-977bd52b00b5"
      },
      "execution_count": 47,
      "outputs": [
        {
          "output_type": "stream",
          "name": "stdout",
          "text": [
            "6/6 - 0s - loss: 4748922060800.0000 - rmse: 2179158.7500 - r2_keras: -3.4658e+09 - 79ms/epoch - 13ms/step\n",
            "\n",
            "MAE: 2179158.75\n",
            "\n",
            "R^2: -3465791744.0\n",
            "6/6 [==============================] - 0s 11ms/step\n",
            "Prediction\n",
            "[[2181569.8]\n",
            " [2184106.8]\n",
            " [2167657.5]\n",
            " [2172852. ]\n",
            " [2185462.5]\n",
            " [2167239.8]\n",
            " [2168840.5]\n",
            " [2203205.5]\n",
            " [2192064.5]\n",
            " [2161812.8]\n",
            " [2199356.5]\n",
            " [2180683.2]\n",
            " [2197511.8]\n",
            " [2194087.5]\n",
            " [2189769. ]\n",
            " [2167675. ]\n",
            " [2191307.2]\n",
            " [2150182.5]\n",
            " [2156322.5]\n",
            " [2194462. ]\n",
            " [2186964.8]\n",
            " [2190075.5]\n",
            " [2174859.2]\n",
            " [2166627.8]\n",
            " [2173753.8]\n",
            " [2182302.2]\n",
            " [2214300.5]\n",
            " [2180534.5]\n",
            " [2158335.8]\n",
            " [2177858.2]\n",
            " [2161651. ]\n",
            " [2201065. ]\n",
            " [2196078.8]\n",
            " [2181413.5]\n",
            " [2172021.5]\n",
            " [2177792.5]\n",
            " [2179118.2]\n",
            " [2184609.8]\n",
            " [2178072. ]\n",
            " [2187195.5]\n",
            " [2186022.8]\n",
            " [2193629. ]\n",
            " [2192593.2]\n",
            " [2175239.5]\n",
            " [2170579.5]\n",
            " [2199242.5]\n",
            " [2176052.5]\n",
            " [2207934.8]\n",
            " [2170666.8]\n",
            " [2171317.5]\n",
            " [2191967. ]\n",
            " [2177270.2]\n",
            " [2176996.8]\n",
            " [2173498.5]\n",
            " [2162006. ]\n",
            " [2155341. ]\n",
            " [2199994.8]\n",
            " [2194164.5]\n",
            " [2203037. ]\n",
            " [2180489.5]\n",
            " [2213407.2]\n",
            " [2190253.5]\n",
            " [2172852. ]\n",
            " [2174976. ]\n",
            " [2175755.8]\n",
            " [2174372.5]\n",
            " [2189700.8]\n",
            " [2187451.5]\n",
            " [2183968.5]\n",
            " [2177313.2]\n",
            " [2173262. ]\n",
            " [2158614. ]\n",
            " [2187140.8]\n",
            " [2166795. ]\n",
            " [2154453. ]\n",
            " [2161084.2]\n",
            " [2204711.5]\n",
            " [2176343.2]\n",
            " [2199016.2]\n",
            " [2170292.5]\n",
            " [2171848.5]\n",
            " [2177477.8]\n",
            " [2188850.8]\n",
            " [2149528. ]\n",
            " [2166916.5]\n",
            " [2194148. ]\n",
            " [2168027. ]\n",
            " [2187480.5]\n",
            " [2190493.5]\n",
            " [2151799.2]\n",
            " [2186691. ]\n",
            " [2167681.2]\n",
            " [2179415.2]\n",
            " [2167029.8]\n",
            " [2160399. ]\n",
            " [2194484.5]\n",
            " [2182522.2]\n",
            " [2199168. ]\n",
            " [2184788. ]\n",
            " [2177536.8]\n",
            " [2153499.8]\n",
            " [2166621.2]\n",
            " [2194908.5]\n",
            " [2184812.5]\n",
            " [2168747.5]\n",
            " [2183340. ]\n",
            " [2162693.8]\n",
            " [2197358.5]\n",
            " [2180383.8]\n",
            " [2187873.5]\n",
            " [2188449.2]\n",
            " [2184981.8]\n",
            " [2194617.8]\n",
            " [2173049.5]\n",
            " [2202068. ]\n",
            " [2175554. ]\n",
            " [2183541. ]\n",
            " [2165935.5]\n",
            " [2162055.2]\n",
            " [2182107. ]\n",
            " [2168204.5]\n",
            " [2181796.2]\n",
            " [2178104. ]\n",
            " [2164310.8]\n",
            " [2161975. ]\n",
            " [2163505.5]\n",
            " [2189324. ]\n",
            " [2199108. ]\n",
            " [2159977.2]\n",
            " [2170279.5]\n",
            " [2174695. ]\n",
            " [2178452.5]\n",
            " [2185018.5]\n",
            " [2173867.2]\n",
            " [2201210.8]\n",
            " [2185693.2]\n",
            " [2185676.2]\n",
            " [2155070.2]\n",
            " [2171100.5]\n",
            " [2142854.8]\n",
            " [2168254.8]\n",
            " [2199879.5]\n",
            " [2169810. ]\n",
            " [2164782.5]\n",
            " [2177641.5]\n",
            " [2181162.8]\n",
            " [2188481.5]\n",
            " [2186450.2]\n",
            " [2171575.2]\n",
            " [2195210.5]\n",
            " [2159436. ]\n",
            " [2171710.5]\n",
            " [2171468.5]\n",
            " [2156315. ]\n",
            " [2191795.8]\n",
            " [2193453. ]\n",
            " [2175311.5]\n",
            " [2196186.8]\n",
            " [2187557.8]\n",
            " [2169277.2]\n",
            " [2189694.2]\n",
            " [2168142.8]\n",
            " [2180266. ]\n",
            " [2177211.8]\n",
            " [2171694. ]\n",
            " [2163842.2]\n",
            " [2193494.5]\n",
            " [2177857. ]]\n",
            "Truth\n",
            "[[ 18.]\n",
            " [106.]\n",
            " [ 15.]\n",
            " [  6.]\n",
            " [ 90.]\n",
            " [ 11.]\n",
            " [  6.]\n",
            " [ 30.]\n",
            " [ 11.]\n",
            " [ 37.]\n",
            " [ 68.]\n",
            " [ 22.]\n",
            " [ 54.]\n",
            " [ 97.]\n",
            " [ 10.]\n",
            " [ 77.]\n",
            " [ 88.]\n",
            " [ 83.]\n",
            " [ 78.]\n",
            " [ 75.]\n",
            " [ 11.]\n",
            " [ 53.]\n",
            " [100.]\n",
            " [ 55.]\n",
            " [ 48.]\n",
            " [ 37.]\n",
            " [ 44.]\n",
            " [ 27.]\n",
            " [ 18.]\n",
            " [  6.]\n",
            " [ 15.]\n",
            " [112.]\n",
            " [ 13.]\n",
            " [ 13.]\n",
            " [ 53.]\n",
            " [ 52.]\n",
            " [103.]\n",
            " [ 26.]\n",
            " [ 73.]\n",
            " [ 39.]\n",
            " [ 39.]\n",
            " [ 14.]\n",
            " [ 11.]\n",
            " [ 86.]\n",
            " [ 56.]\n",
            " [115.]\n",
            " [ 17.]\n",
            " [104.]\n",
            " [ 78.]\n",
            " [ 86.]\n",
            " [ 98.]\n",
            " [ 36.]\n",
            " [ 52.]\n",
            " [ 91.]\n",
            " [ 15.]\n",
            " [ 17.]\n",
            " [ 47.]\n",
            " [ 21.]\n",
            " [ 79.]\n",
            " [  8.]\n",
            " [  9.]\n",
            " [ 73.]\n",
            " [ 97.]\n",
            " [ 49.]\n",
            " [ 31.]\n",
            " [ 97.]\n",
            " [  9.]\n",
            " [ 14.]\n",
            " [  8.]\n",
            " [  8.]\n",
            " [106.]\n",
            " [ 61.]\n",
            " [168.]\n",
            " [ 35.]\n",
            " [ 80.]\n",
            " [  9.]\n",
            " [ 50.]\n",
            " [ 78.]\n",
            " [ 91.]\n",
            " [  7.]\n",
            " [106.]\n",
            " [ 15.]\n",
            " [  7.]\n",
            " [ 82.]\n",
            " [108.]\n",
            " [ 79.]\n",
            " [121.]\n",
            " [ 39.]\n",
            " [ 38.]\n",
            " [  9.]\n",
            " [167.]\n",
            " [ 88.]\n",
            " [  7.]\n",
            " [ 51.]\n",
            " [ 55.]\n",
            " [ 47.]\n",
            " [ 81.]\n",
            " [ 43.]\n",
            " [ 98.]\n",
            " [ 10.]\n",
            " [ 11.]\n",
            " [ 34.]\n",
            " [115.]\n",
            " [ 99.]\n",
            " [171.]\n",
            " [ 15.]\n",
            " [  9.]\n",
            " [ 42.]\n",
            " [ 13.]\n",
            " [ 41.]\n",
            " [ 88.]\n",
            " [ 14.]\n",
            " [ 82.]\n",
            " [ 36.]\n",
            " [107.]\n",
            " [ 14.]\n",
            " [ 23.]\n",
            " [  6.]\n",
            " [ 35.]\n",
            " [ 97.]\n",
            " [ 68.]\n",
            " [ 14.]\n",
            " [ 67.]\n",
            " [ 19.]\n",
            " [ 10.]\n",
            " [ 43.]\n",
            " [ 12.]\n",
            " [ 13.]\n",
            " [ 37.]\n",
            " [ 80.]\n",
            " [ 93.]\n",
            " [ 32.]\n",
            " [103.]\n",
            " [ 68.]\n",
            " [192.]\n",
            " [ 48.]\n",
            " [ 85.]\n",
            " [  8.]\n",
            " [ 23.]\n",
            " [  8.]\n",
            " [  6.]\n",
            " [ 57.]\n",
            " [ 83.]\n",
            " [ 81.]\n",
            " [ 73.]\n",
            " [ 75.]\n",
            " [ 11.]\n",
            " [108.]\n",
            " [ 14.]\n",
            " [ 61.]\n",
            " [ 85.]\n",
            " [  8.]\n",
            " [101.]\n",
            " [ 89.]\n",
            " [190.]\n",
            " [ 12.]\n",
            " [ 62.]\n",
            " [101.]\n",
            " [ 17.]\n",
            " [ 16.]\n",
            " [ 56.]\n",
            " [ 23.]\n",
            " [ 12.]\n",
            " [ 43.]\n",
            " [ 48.]\n",
            " [122.]\n",
            " [ 56.]\n",
            " [ 51.]]\n"
          ]
        }
      ]
    },
    {
      "cell_type": "code",
      "source": [
        "# Plot in blue color the predicted data and in green color the\n",
        "# actual data to verify visually the accuracy of the model.\n",
        "fig_verify = plt.figure(figsize=(100, 50))\n",
        "plt.plot(y_pred_test, color=\"blue\")\n",
        "plt.plot(y_true_test, color=\"green\")\n",
        "plt.title('prediction')\n",
        "plt.ylabel('RUL in cycles')\n",
        "plt.xlabel('Engine ID')\n",
        "plt.legend(['predicted', 'actual data'], loc='upper left')\n",
        "plt.show()\n",
        "fig_verify.savefig(\"model_regression_verify_combo1.png\")\n"
      ],
      "metadata": {
        "colab": {
          "base_uri": "https://localhost:8080/",
          "height": 1000
        },
        "id": "s6coPd-7Il7O",
        "outputId": "d526f56c-a7f7-413a-c600-c2bcb8bb9700"
      },
      "execution_count": 51,
      "outputs": [
        {
          "output_type": "display_data",
          "data": {
            "text/plain": [
              "<Figure size 7200x3600 with 1 Axes>"
            ],
            "image/png": "[encoded data removed]"
          },
          "metadata": {
            "needs_background": "light"
          }
        }
      ]
    }
  ]
}